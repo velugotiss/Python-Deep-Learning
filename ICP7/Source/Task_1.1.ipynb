{
  "nbformat": 4,
  "nbformat_minor": 0,
  "metadata": {
    "colab": {
      "name": "Untitled8.ipynb",
      "provenance": []
    },
    "kernelspec": {
      "name": "python3",
      "display_name": "Python 3"
    }
  },
  "cells": [
    {
      "cell_type": "code",
      "metadata": {
        "id": "GQ72LMlC3vHM"
      },
      "source": [
        "from sklearn.datasets import fetch_20newsgroups\r\n",
        "from sklearn.feature_extraction.text import CountVectorizer, TfidfVectorizer\r\n",
        "from sklearn.feature_extraction.text import TfidfTransformer\r\n",
        "from sklearn import metrics\r\n",
        "from sklearn.pipeline import Pipeline\r\n",
        "from sklearn.naive_bayes import MultinomialNB\r\n",
        "from sklearn.svm import SVC\r\n",
        "from pprint import pprint"
      ],
      "execution_count": 1,
      "outputs": []
    },
    {
      "cell_type": "code",
      "metadata": {
        "colab": {
          "base_uri": "https://localhost:8080/"
        },
        "id": "Q3NcPblR4AOt",
        "outputId": "0e91663d-4691-4bfd-b89e-22ce806e942e"
      },
      "source": [
        "twenty_train1 = fetch_20newsgroups(subset='train', categories=None, shuffle=True)\r\n",
        "print(list(twenty_train1.target_names))"
      ],
      "execution_count": 2,
      "outputs": [
        {
          "output_type": "stream",
          "text": [
            "Downloading 20news dataset. This may take a few minutes.\n",
            "Downloading dataset from https://ndownloader.figshare.com/files/5975967 (14 MB)\n"
          ],
          "name": "stderr"
        },
        {
          "output_type": "stream",
          "text": [
            "['alt.atheism', 'comp.graphics', 'comp.os.ms-windows.misc', 'comp.sys.ibm.pc.hardware', 'comp.sys.mac.hardware', 'comp.windows.x', 'misc.forsale', 'rec.autos', 'rec.motorcycles', 'rec.sport.baseball', 'rec.sport.hockey', 'sci.crypt', 'sci.electronics', 'sci.med', 'sci.space', 'soc.religion.christian', 'talk.politics.guns', 'talk.politics.mideast', 'talk.politics.misc', 'talk.religion.misc']\n"
          ],
          "name": "stdout"
        }
      ]
    },
    {
      "cell_type": "code",
      "metadata": {
        "colab": {
          "base_uri": "https://localhost:8080/"
        },
        "id": "b9YX5vcX4HZI",
        "outputId": "90028d4c-df4c-4e20-9402-52c6da639af2"
      },
      "source": [
        "categories = ['alt.atheism', 'soc.religion.christian', 'comp.graphics', 'sci.med']\r\n",
        "\r\n",
        "twenty_train = fetch_20newsgroups(subset='train', categories=categories, shuffle=True)\r\n",
        "\r\n",
        "print(list(twenty_train.target_names))"
      ],
      "execution_count": 3,
      "outputs": [
        {
          "output_type": "stream",
          "text": [
            "['alt.atheism', 'comp.graphics', 'sci.med', 'soc.religion.christian']\n"
          ],
          "name": "stdout"
        }
      ]
    },
    {
      "cell_type": "code",
      "metadata": {
        "colab": {
          "base_uri": "https://localhost:8080/"
        },
        "id": "HZoDIocu4JfR",
        "outputId": "ec2ee7bc-d934-4d17-df4d-d289f6939322"
      },
      "source": [
        "\r\n",
        "tfidf_Vect = TfidfVectorizer()\r\n",
        "X_train_tfidf = tfidf_Vect.fit_transform(twenty_train.data)\r\n",
        "clf = SVC()\r\n",
        "clf.fit(X_train_tfidf, twenty_train.target)\r\n",
        "twenty_test = fetch_20newsgroups(subset='test', categories=categories, shuffle=True)\r\n",
        "X_test_tfidf = tfidf_Vect.transform(twenty_test.data)\r\n",
        "predicted = clf.predict(X_test_tfidf)\r\n",
        "score = round(clf.score(X_test_tfidf, twenty_test.target) * 100, 2)\r\n",
        "print(\"Score with SVC: \" + str(score))"
      ],
      "execution_count": 4,
      "outputs": [
        {
          "output_type": "stream",
          "text": [
            "Score with SVC: 89.01\n"
          ],
          "name": "stdout"
        }
      ]
    }
  ]
}