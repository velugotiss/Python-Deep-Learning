{
  "nbformat": 4,
  "nbformat_minor": 0,
  "metadata": {
    "colab": {
      "name": "Task_2.ipynb",
      "provenance": []
    },
    "kernelspec": {
      "name": "python3",
      "display_name": "Python 3"
    }
  },
  "cells": [
    {
      "cell_type": "code",
      "metadata": {
        "id": "FHqY8IX-9iPB"
      },
      "source": [
        "from bs4 import BeautifulSoup\r\n",
        "import urllib.request\r\n",
        "\r\n",
        "\r\n",
        "def search_spider():\r\n",
        "\r\n",
        "    url = \"https://en.wikipedia.org/wiki/Google\"\r\n",
        "    source_code = urllib.request.urlopen(url)\r\n",
        "    soup = BeautifulSoup(source_code, \"html.parser\")\r\n",
        "\r\n",
        "    body = soup.find('div', {'class': 'mw-parser-output'})\r\n",
        "    file.write(str(body.text))\r\n",
        "\r\n",
        "\r\n",
        "\r\n",
        "file = open('input1.txt', 'a+', encoding='utf-8')\r\n",
        "search_spider()"
      ],
      "execution_count": 1,
      "outputs": []
    }
  ]
}