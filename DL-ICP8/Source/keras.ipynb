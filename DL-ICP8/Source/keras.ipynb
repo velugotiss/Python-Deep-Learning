{
  "nbformat": 4,
  "nbformat_minor": 0,
  "metadata": {
    "colab": {
      "name": "Untitled8.ipynb",
      "provenance": []
    },
    "kernelspec": {
      "name": "python3",
      "display_name": "Python 3"
    }
  },
  "cells": [
    {
      "cell_type": "code",
      "metadata": {
        "id": "_wBv-dYFNAKc"
      },
      "source": [
        "from keras.models import Sequential\r\n",
        "from keras.layers.core import Dense"
      ],
      "execution_count": 2,
      "outputs": []
    },
    {
      "cell_type": "code",
      "metadata": {
        "id": "i5ocKjb1NIxu"
      },
      "source": [
        "# load dataset\r\n",
        "import pandas as pd\r\n",
        "dataset = pd.read_csv(\"breastcancer.csv\")"
      ],
      "execution_count": 3,
      "outputs": []
    },
    {
      "cell_type": "code",
      "metadata": {
        "colab": {
          "base_uri": "https://localhost:8080/"
        },
        "id": "Q7Bth9mFNN2L",
        "outputId": "6217c433-b802-45dc-95f0-650681300e12"
      },
      "source": [
        "X = dataset.iloc[:, 2:32].values\r\n",
        "y = dataset.iloc[:, 1].values\r\n",
        "\r\n",
        "print(dataset.iloc[:, 1].value_counts())"
      ],
      "execution_count": 4,
      "outputs": [
        {
          "output_type": "stream",
          "text": [
            "B    357\n",
            "M    212\n",
            "Name: diagnosis, dtype: int64\n"
          ],
          "name": "stdout"
        }
      ]
    },
    {
      "cell_type": "code",
      "metadata": {
        "id": "xJw2-IANNVVT"
      },
      "source": [
        "# Encoding categorical data\r\n",
        "from sklearn.preprocessing import LabelEncoder\r\n",
        "labelencoder_X_1 = LabelEncoder()\r\n",
        "y = labelencoder_X_1.fit_transform(y) # Fit label encoder and return encoded labels M=1, B=0"
      ],
      "execution_count": 5,
      "outputs": []
    },
    {
      "cell_type": "code",
      "metadata": {
        "id": "05YxFSSIOkwT"
      },
      "source": [
        "from sklearn.model_selection import train_test_split\r\n",
        "X_train, X_test, y_train, y_test = train_test_split(X, y, test_size = 0.25, random_state = 0)"
      ],
      "execution_count": 6,
      "outputs": []
    },
    {
      "cell_type": "code",
      "metadata": {
        "id": "L4dfHGrxOl90"
      },
      "source": [
        "my_first_nn = Sequential() # create model\r\n",
        "my_first_nn.add(Dense(20, input_dim=30, activation='relu')) # hidden layer\r\n",
        "my_first_nn.add(Dense(1, activation='sigmoid')) # output layer\r\n",
        "my_first_nn.compile(loss='binary_crossentropy', optimizer='adam', metrics=['accuracy'])\r\n",
        "my_first_nn_fitted = my_first_nn.fit(X_train, y_train, epochs=100, verbose=0, initial_epoch=0)"
      ],
      "execution_count": 7,
      "outputs": []
    },
    {
      "cell_type": "code",
      "metadata": {
        "colab": {
          "base_uri": "https://localhost:8080/"
        },
        "id": "zXJGi2-dOpkl",
        "outputId": "a0129a00-6ca5-4236-9501-4bf3d1eda38e"
      },
      "source": [
        "print(my_first_nn.summary())\r\n",
        "print(my_first_nn.evaluate(X_test, y_test))"
      ],
      "execution_count": 8,
      "outputs": [
        {
          "output_type": "stream",
          "text": [
            "Model: \"sequential\"\n",
            "_________________________________________________________________\n",
            "Layer (type)                 Output Shape              Param #   \n",
            "=================================================================\n",
            "dense (Dense)                (None, 20)                620       \n",
            "_________________________________________________________________\n",
            "dense_1 (Dense)              (None, 1)                 21        \n",
            "=================================================================\n",
            "Total params: 641\n",
            "Trainable params: 641\n",
            "Non-trainable params: 0\n",
            "_________________________________________________________________\n",
            "None\n",
            "5/5 [==============================] - 0s 2ms/step - loss: 0.3926 - accuracy: 0.8671\n",
            "[0.39256155490875244, 0.867132842540741]\n"
          ],
          "name": "stdout"
        }
      ]
    },
    {
      "cell_type": "code",
      "metadata": {
        "colab": {
          "base_uri": "https://localhost:8080/"
        },
        "id": "hw9IoiCuOxWE",
        "outputId": "17181cdd-fa05-4f20-b3f4-00b98ff233da"
      },
      "source": [
        "# --------------Q.3 Data is normalize here ----------------------#\r\n",
        "from sklearn.preprocessing import StandardScaler\r\n",
        "sc = StandardScaler()\r\n",
        "\r\n",
        "X_train = sc.fit_transform(X_train)\r\n",
        "X_test = sc.transform(X_test)\r\n",
        "\r\n",
        "my_first_nn1 = Sequential() # create model\r\n",
        "my_first_nn1.add(Dense(20, input_dim=30, activation='relu')) # hidden layer\r\n",
        "my_first_nn1.add(Dense(1, activation='sigmoid')) # output layer\r\n",
        "my_first_nn1.compile(loss='binary_crossentropy', optimizer='adam', metrics=['accuracy'])\r\n",
        "\r\n",
        "\r\n",
        "my_first_nn_fitted1 = my_first_nn1.fit(X_train, y_train, epochs=100, verbose=0, initial_epoch=0)\r\n",
        "\r\n",
        "print(\"\\n----------Q.3 After Normalization---------------\\n\")\r\n",
        "print(my_first_nn.summary())\r\n",
        "print(my_first_nn.evaluate(X_test, y_test))"
      ],
      "execution_count": 9,
      "outputs": [
        {
          "output_type": "stream",
          "text": [
            "\n",
            "----------Q.3 After Normalization---------------\n",
            "\n",
            "Model: \"sequential\"\n",
            "_________________________________________________________________\n",
            "Layer (type)                 Output Shape              Param #   \n",
            "=================================================================\n",
            "dense (Dense)                (None, 20)                620       \n",
            "_________________________________________________________________\n",
            "dense_1 (Dense)              (None, 1)                 21        \n",
            "=================================================================\n",
            "Total params: 641\n",
            "Trainable params: 641\n",
            "Non-trainable params: 0\n",
            "_________________________________________________________________\n",
            "None\n",
            "5/5 [==============================] - 0s 3ms/step - loss: 0.3145 - accuracy: 0.8741\n",
            "[0.3144606947898865, 0.8741258978843689]\n"
          ],
          "name": "stdout"
        }
      ]
    }
  ]
}