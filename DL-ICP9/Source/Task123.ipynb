{
  "nbformat": 4,
  "nbformat_minor": 0,
  "metadata": {
    "colab": {
      "name": "Untitled9.ipynb",
      "provenance": []
    },
    "kernelspec": {
      "name": "python3",
      "display_name": "Python 3"
    },
    "language_info": {
      "name": "python"
    }
  },
  "cells": [
    {
      "cell_type": "code",
      "metadata": {
        "id": "YGc8V6cgW_zn"
      },
      "source": [
        "from keras import Sequential\n",
        "from keras.datasets import mnist\n",
        "import numpy as np\n",
        "import matplotlib.pyplot as plt\n",
        "from keras.layers import Dense\n",
        "from keras.utils import to_categorical"
      ],
      "execution_count": 1,
      "outputs": []
    },
    {
      "cell_type": "code",
      "metadata": {
        "colab": {
          "base_uri": "https://localhost:8080/",
          "height": 365
        },
        "id": "T_DsWHuQXpI4",
        "outputId": "f23ec3fa-70e6-4351-d10a-511ef1df5cd6"
      },
      "source": [
        "(train_images,train_labels),(test_images, test_labels) = mnist.load_data()\n",
        "#display the first image in the training data\n",
        "print(train_images.shape)\n",
        "print(train_labels.shape)\n",
        "plt.imshow(train_images[10,:,:],cmap='gray')\n",
        "plt.title('Ground Truth : {}'.format(train_labels[10]))\n",
        "# plt.show()"
      ],
      "execution_count": 2,
      "outputs": [
        {
          "output_type": "stream",
          "text": [
            "Downloading data from https://storage.googleapis.com/tensorflow/tf-keras-datasets/mnist.npz\n",
            "11493376/11490434 [==============================] - 0s 0us/step\n",
            "(60000, 28, 28)\n",
            "(60000,)\n"
          ],
          "name": "stdout"
        },
        {
          "output_type": "execute_result",
          "data": {
            "text/plain": [
              "Text(0.5, 1.0, 'Ground Truth : 3')"
            ]
          },
          "metadata": {
            "tags": []
          },
          "execution_count": 2
        },
        {
          "output_type": "display_data",
          "data": {
            "image/png": "[encoded data removed]",
            "text/plain": [
              "<Figure size 432x288 with 1 Axes>"
            ]
          },
          "metadata": {
            "tags": [],
            "needs_background": "light"
          }
        }
      ]
    },
    {
      "cell_type": "code",
      "metadata": {
        "colab": {
          "base_uri": "https://localhost:8080/"
        },
        "id": "OJQ02y9RX3Jc",
        "outputId": "6545d9e4-7322-4ca0-de3e-be2128783824"
      },
      "source": [
        "#process the data\n",
        "#1. convert each image of shape 28*28 to 784 dimensional which will be fed to the network as a single feature\n",
        "dimData = np.prod(train_images.shape[1:])\n",
        "train_data = train_images.reshape(train_images.shape[0],dimData)\n",
        "test_data = test_images.reshape(test_images.shape[0],dimData)\n",
        "print(train_data.shape)\n",
        "print(test_data.shape)"
      ],
      "execution_count": 3,
      "outputs": [
        {
          "output_type": "stream",
          "text": [
            "(60000, 784)\n",
            "(10000, 784)\n"
          ],
          "name": "stdout"
        }
      ]
    },
    {
      "cell_type": "code",
      "metadata": {
        "id": "96DYOqjHX_TR"
      },
      "source": [
        "#convert data to float and scale values between 0 and 1\n",
        "train_data = train_data.astype('float')\n",
        "test_data = test_data.astype('float')\n",
        "# scale data\n",
        "train_data /=255.0\n",
        "test_data /=255.0"
      ],
      "execution_count": 4,
      "outputs": []
    },
    {
      "cell_type": "code",
      "metadata": {
        "id": "Z_DlaSEzYEGO"
      },
      "source": [
        "#change the labels frominteger to one-hot encoding\n",
        "train_labels_one_hot = to_categorical(train_labels)\n",
        "test_labels_one_hot = to_categorical(test_labels)"
      ],
      "execution_count": 5,
      "outputs": []
    },
    {
      "cell_type": "code",
      "metadata": {
        "id": "vsZ-4flSYID7"
      },
      "source": [
        "#creating network\n",
        "model = Sequential()\n",
        "model.add(Dense(512, activation='relu', input_shape=(dimData,)))\n",
        "model.add(Dense(512, activation='relu'))\n",
        "model.add(Dense(10, activation='softmax'))"
      ],
      "execution_count": 6,
      "outputs": []
    },
    {
      "cell_type": "code",
      "metadata": {
        "colab": {
          "base_uri": "https://localhost:8080/"
        },
        "id": "VqL1DFrtYQgD",
        "outputId": "6600d103-4ef1-4053-f33a-1bc76b07c5b4"
      },
      "source": [
        "model.compile(optimizer='rmsprop', loss='categorical_crossentropy', metrics=['accuracy'])\n",
        "history = model.fit(train_data, train_labels_one_hot, batch_size=256, epochs=20, verbose=1,\n",
        "                   validation_data=(test_data, test_labels_one_hot))\n",
        "\n",
        "[test_loss, test_acc] = model.evaluate(test_data, test_labels_one_hot)\n",
        "print(\"Evaluation result on Test Data : Loss = {}, accuracy = {}\".format(test_loss, test_acc))"
      ],
      "execution_count": 7,
      "outputs": [
        {
          "output_type": "stream",
          "text": [
            "Epoch 1/20\n",
            "235/235 [==============================] - 7s 27ms/step - loss: 0.5000 - accuracy: 0.8439 - val_loss: 0.1717 - val_accuracy: 0.9455\n",
            "Epoch 2/20\n",
            "235/235 [==============================] - 6s 25ms/step - loss: 0.1000 - accuracy: 0.9685 - val_loss: 0.1086 - val_accuracy: 0.9671\n",
            "Epoch 3/20\n",
            "235/235 [==============================] - 6s 26ms/step - loss: 0.0603 - accuracy: 0.9808 - val_loss: 0.0882 - val_accuracy: 0.9716\n",
            "Epoch 4/20\n",
            "235/235 [==============================] - 6s 26ms/step - loss: 0.0385 - accuracy: 0.9879 - val_loss: 0.0652 - val_accuracy: 0.9808\n",
            "Epoch 5/20\n",
            "235/235 [==============================] - 6s 25ms/step - loss: 0.0282 - accuracy: 0.9908 - val_loss: 0.0777 - val_accuracy: 0.9776\n",
            "Epoch 6/20\n",
            "235/235 [==============================] - 6s 26ms/step - loss: 0.0193 - accuracy: 0.9938 - val_loss: 0.0891 - val_accuracy: 0.9785\n",
            "Epoch 7/20\n",
            "235/235 [==============================] - 6s 25ms/step - loss: 0.0154 - accuracy: 0.9948 - val_loss: 0.1036 - val_accuracy: 0.9761\n",
            "Epoch 8/20\n",
            "235/235 [==============================] - 6s 25ms/step - loss: 0.0121 - accuracy: 0.9960 - val_loss: 0.0850 - val_accuracy: 0.9826\n",
            "Epoch 9/20\n",
            "235/235 [==============================] - 6s 25ms/step - loss: 0.0097 - accuracy: 0.9968 - val_loss: 0.0928 - val_accuracy: 0.9806\n",
            "Epoch 10/20\n",
            "235/235 [==============================] - 6s 26ms/step - loss: 0.0071 - accuracy: 0.9977 - val_loss: 0.0919 - val_accuracy: 0.9812\n",
            "Epoch 11/20\n",
            "235/235 [==============================] - 6s 26ms/step - loss: 0.0063 - accuracy: 0.9978 - val_loss: 0.1038 - val_accuracy: 0.9789\n",
            "Epoch 12/20\n",
            "235/235 [==============================] - 6s 25ms/step - loss: 0.0062 - accuracy: 0.9978 - val_loss: 0.1122 - val_accuracy: 0.9815\n",
            "Epoch 13/20\n",
            "235/235 [==============================] - 6s 25ms/step - loss: 0.0050 - accuracy: 0.9981 - val_loss: 0.1194 - val_accuracy: 0.9820\n",
            "Epoch 14/20\n",
            "235/235 [==============================] - 6s 26ms/step - loss: 0.0058 - accuracy: 0.9980 - val_loss: 0.1064 - val_accuracy: 0.9828\n",
            "Epoch 15/20\n",
            "235/235 [==============================] - 6s 25ms/step - loss: 0.0043 - accuracy: 0.9986 - val_loss: 0.1156 - val_accuracy: 0.9823\n",
            "Epoch 16/20\n",
            "235/235 [==============================] - 6s 25ms/step - loss: 0.0031 - accuracy: 0.9990 - val_loss: 0.1146 - val_accuracy: 0.9818\n",
            "Epoch 17/20\n",
            "235/235 [==============================] - 6s 25ms/step - loss: 0.0032 - accuracy: 0.9990 - val_loss: 0.1559 - val_accuracy: 0.9803\n",
            "Epoch 18/20\n",
            "235/235 [==============================] - 6s 25ms/step - loss: 0.0045 - accuracy: 0.9989 - val_loss: 0.1502 - val_accuracy: 0.9819\n",
            "Epoch 19/20\n",
            "235/235 [==============================] - 6s 25ms/step - loss: 0.0045 - accuracy: 0.9988 - val_loss: 0.1530 - val_accuracy: 0.9822\n",
            "Epoch 20/20\n",
            "235/235 [==============================] - 6s 26ms/step - loss: 0.0038 - accuracy: 0.9987 - val_loss: 0.1319 - val_accuracy: 0.9834\n",
            "313/313 [==============================] - 1s 3ms/step - loss: 0.1319 - accuracy: 0.9834\n",
            "Evaluation result on Test Data : Loss = 0.13188229501247406, accuracy = 0.9833999872207642\n"
          ],
          "name": "stdout"
        }
      ]
    },
    {
      "cell_type": "code",
      "metadata": {
        "colab": {
          "base_uri": "https://localhost:8080/"
        },
        "id": "DtC1mxV5Y1nj",
        "outputId": "0cc7a9b2-459e-42ac-e2af-ccbf49c8232c"
      },
      "source": [
        "# Plotting Loss and Accuracy Curve\n",
        "print(history.history.keys())"
      ],
      "execution_count": 8,
      "outputs": [
        {
          "output_type": "stream",
          "text": [
            "dict_keys(['loss', 'accuracy', 'val_loss', 'val_accuracy'])\n"
          ],
          "name": "stdout"
        }
      ]
    },
    {
      "cell_type": "code",
      "metadata": {
        "colab": {
          "base_uri": "https://localhost:8080/",
          "height": 295
        },
        "id": "jH18comvY79J",
        "outputId": "3d886558-fb59-4c0c-fa9a-a57c9d0cda09"
      },
      "source": [
        "# Accuracy Plot\n",
        "plt.plot(history.history['accuracy'])\n",
        "plt.plot(history.history['val_accuracy'])\n",
        "plt.title('Model Accuracy')\n",
        "plt.ylabel('Accuracy')\n",
        "plt.xlabel('Epoch')\n",
        "plt.legend(['train', 'validation'], loc='lower right')\n",
        "plt.show()"
      ],
      "execution_count": 9,
      "outputs": [
        {
          "output_type": "display_data",
          "data": {
            "image/png": "[encoded data removed]",
            "text/plain": [
              "<Figure size 432x288 with 1 Axes>"
            ]
          },
          "metadata": {
            "tags": [],
            "needs_background": "light"
          }
        }
      ]
    },
    {
      "cell_type": "code",
      "metadata": {
        "colab": {
          "base_uri": "https://localhost:8080/",
          "height": 295
        },
        "id": "FiO0uSFxZASs",
        "outputId": "7340ff73-1e38-455b-c4d8-4b64d3fa4755"
      },
      "source": [
        "# Loss Curve\n",
        "plt.plot(history.history['loss'])\n",
        "plt.plot(history.history['val_loss'])\n",
        "plt.title('model loss')\n",
        "plt.ylabel('loss')\n",
        "plt.xlabel('epoch')\n",
        "plt.legend(['train', 'validation'], loc='upper right')\n",
        "plt.show()"
      ],
      "execution_count": 10,
      "outputs": [
        {
          "output_type": "display_data",
          "data": {
            "image/png": "[encoded data removed]",
            "text/plain": [
              "<Figure size 432x288 with 1 Axes>"
            ]
          },
          "metadata": {
            "tags": [],
            "needs_background": "light"
          }
        }
      ]
    },
    {
      "cell_type": "code",
      "metadata": {
        "colab": {
          "base_uri": "https://localhost:8080/",
          "height": 298
        },
        "id": "vjiMFwTGZF4l",
        "outputId": "29e8ef5d-476f-4f82-e0d3-dc12a30984af"
      },
      "source": [
        "# Plotting digit from Test Data and predicting it\n",
        "plt.imshow(test_data[10].reshape(28, 28),cmap='Greys')\n",
        "plt.title(\"Digit from the test data\")\n",
        "plt.show()\n",
        "pred = model.predict(test_data[10].reshape(1,784))\n",
        "print(\"Predicted digit:\",pred.argmax())"
      ],
      "execution_count": 11,
      "outputs": [
        {
          "output_type": "display_data",
          "data": {
            "image/png": "[encoded data removed]",
            "text/plain": [
              "<Figure size 432x288 with 1 Axes>"
            ]
          },
          "metadata": {
            "tags": [],
            "needs_background": "light"
          }
        },
        {
          "output_type": "stream",
          "text": [
            "Predicted digit: 0\n"
          ],
          "name": "stdout"
        }
      ]
    },
    {
      "cell_type": "code",
      "metadata": {
        "id": "gyFUGcpqZGHt"
      },
      "source": [
        "# Adding more hidden layers \n",
        "model1 = Sequential()\n",
        "model1.add(Dense(512, activation='tanh', input_shape=(dimData,)))\n",
        "model1.add(Dense(512, activation='tanh'))\n",
        "model1.add(Dense(512, activation='tanh'))\n",
        "model1.add(Dense(512, activation='tanh'))\n",
        "model1.add(Dense(10, activation='sigmoid'))"
      ],
      "execution_count": 12,
      "outputs": []
    },
    {
      "cell_type": "code",
      "metadata": {
        "colab": {
          "base_uri": "https://localhost:8080/"
        },
        "id": "G7loQvpZZY0-",
        "outputId": "3ec04f66-4462-4a53-a19c-28fc8a7e5502"
      },
      "source": [
        "model1.compile(optimizer='rmsprop', loss='categorical_crossentropy', metrics=['accuracy'])\n",
        "history1 = model1.fit(train_data, train_labels_one_hot, batch_size=256, epochs=20, verbose=1,\n",
        "                   validation_data=(test_data, test_labels_one_hot))\n",
        "\n",
        "[test_loss1, test_acc1] = model1.evaluate(test_data, test_labels_one_hot)\n",
        "print(\"Evaluation result on Test Data : Loss = {}, accuracy = {}\".format(test_loss1, test_acc1))"
      ],
      "execution_count": 13,
      "outputs": [
        {
          "output_type": "stream",
          "text": [
            "Epoch 1/20\n",
            "235/235 [==============================] - 12s 46ms/step - loss: 0.7274 - accuracy: 0.7827 - val_loss: 0.2661 - val_accuracy: 0.9132\n",
            "Epoch 2/20\n",
            "235/235 [==============================] - 11s 46ms/step - loss: 0.1869 - accuracy: 0.9425 - val_loss: 0.2606 - val_accuracy: 0.9176\n",
            "Epoch 3/20\n",
            "235/235 [==============================] - 11s 46ms/step - loss: 0.1131 - accuracy: 0.9647 - val_loss: 0.1408 - val_accuracy: 0.9522\n",
            "Epoch 4/20\n",
            "235/235 [==============================] - 11s 46ms/step - loss: 0.0803 - accuracy: 0.9746 - val_loss: 0.1044 - val_accuracy: 0.9682\n",
            "Epoch 5/20\n",
            "235/235 [==============================] - 11s 46ms/step - loss: 0.0553 - accuracy: 0.9823 - val_loss: 0.0967 - val_accuracy: 0.9702\n",
            "Epoch 6/20\n",
            "235/235 [==============================] - 11s 46ms/step - loss: 0.0388 - accuracy: 0.9875 - val_loss: 0.1848 - val_accuracy: 0.9409\n",
            "Epoch 7/20\n",
            "235/235 [==============================] - 11s 46ms/step - loss: 0.0328 - accuracy: 0.9895 - val_loss: 0.1014 - val_accuracy: 0.9720\n",
            "Epoch 8/20\n",
            "235/235 [==============================] - 11s 46ms/step - loss: 0.0227 - accuracy: 0.9929 - val_loss: 0.0964 - val_accuracy: 0.9730\n",
            "Epoch 9/20\n",
            "235/235 [==============================] - 11s 46ms/step - loss: 0.0180 - accuracy: 0.9942 - val_loss: 0.0838 - val_accuracy: 0.9767\n",
            "Epoch 10/20\n",
            "235/235 [==============================] - 11s 46ms/step - loss: 0.0146 - accuracy: 0.9953 - val_loss: 0.1271 - val_accuracy: 0.9692\n",
            "Epoch 11/20\n",
            "235/235 [==============================] - 11s 46ms/step - loss: 0.0129 - accuracy: 0.9960 - val_loss: 0.0903 - val_accuracy: 0.9761\n",
            "Epoch 12/20\n",
            "235/235 [==============================] - 11s 46ms/step - loss: 0.0110 - accuracy: 0.9967 - val_loss: 0.0790 - val_accuracy: 0.9807\n",
            "Epoch 13/20\n",
            "235/235 [==============================] - 11s 46ms/step - loss: 0.0098 - accuracy: 0.9968 - val_loss: 0.1054 - val_accuracy: 0.9758\n",
            "Epoch 14/20\n",
            "235/235 [==============================] - 11s 46ms/step - loss: 0.0078 - accuracy: 0.9977 - val_loss: 0.1187 - val_accuracy: 0.9725\n",
            "Epoch 15/20\n",
            "235/235 [==============================] - 11s 46ms/step - loss: 0.0085 - accuracy: 0.9975 - val_loss: 0.1063 - val_accuracy: 0.9762\n",
            "Epoch 16/20\n",
            "235/235 [==============================] - 11s 46ms/step - loss: 0.0063 - accuracy: 0.9979 - val_loss: 0.0817 - val_accuracy: 0.9811\n",
            "Epoch 17/20\n",
            "235/235 [==============================] - 11s 47ms/step - loss: 0.0057 - accuracy: 0.9983 - val_loss: 0.1139 - val_accuracy: 0.9751\n",
            "Epoch 18/20\n",
            "235/235 [==============================] - 11s 46ms/step - loss: 0.0051 - accuracy: 0.9984 - val_loss: 0.0984 - val_accuracy: 0.9777\n",
            "Epoch 19/20\n",
            "235/235 [==============================] - 11s 46ms/step - loss: 0.0052 - accuracy: 0.9985 - val_loss: 0.1245 - val_accuracy: 0.9753\n",
            "Epoch 20/20\n",
            "235/235 [==============================] - 11s 46ms/step - loss: 0.0048 - accuracy: 0.9985 - val_loss: 0.1023 - val_accuracy: 0.9779\n",
            "313/313 [==============================] - 1s 5ms/step - loss: 0.1023 - accuracy: 0.9779\n",
            "Evaluation result on Test Data : Loss = 0.10232772678136826, accuracy = 0.9779000282287598\n"
          ],
          "name": "stdout"
        }
      ]
    }
  ]
}