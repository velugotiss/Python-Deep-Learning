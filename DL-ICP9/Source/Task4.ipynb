{
  "nbformat": 4,
  "nbformat_minor": 0,
  "metadata": {
    "colab": {
      "name": "Untitled10.ipynb",
      "provenance": []
    },
    "kernelspec": {
      "name": "python3",
      "display_name": "Python 3"
    },
    "language_info": {
      "name": "python"
    }
  },
  "cells": [
    {
      "cell_type": "code",
      "metadata": {
        "id": "4jbbUI7nbeu_"
      },
      "source": [
        "from keras import Sequential\n",
        "from keras.datasets import mnist\n",
        "import numpy as np\n",
        "import matplotlib.pyplot as plt\n",
        "from keras.layers import Dense\n",
        "from keras.utils import to_categorical"
      ],
      "execution_count": 1,
      "outputs": []
    },
    {
      "cell_type": "code",
      "metadata": {
        "colab": {
          "base_uri": "https://localhost:8080/",
          "height": 365
        },
        "id": "OU2q1CYvbnHI",
        "outputId": "7d29f915-15f9-4fdf-d58f-fef9834ed779"
      },
      "source": [
        "(train_images,train_labels),(test_images, test_labels) = mnist.load_data()\n",
        "#display the first image in the training data\n",
        "print(train_images.shape)\n",
        "print(train_labels.shape)\n",
        "plt.imshow(train_images[10,:,:],cmap='gray')\n",
        "plt.title('Ground Truth : {}'.format(train_labels[10]))\n",
        "# plt.show()"
      ],
      "execution_count": 2,
      "outputs": [
        {
          "output_type": "stream",
          "text": [
            "Downloading data from https://storage.googleapis.com/tensorflow/tf-keras-datasets/mnist.npz\n",
            "11493376/11490434 [==============================] - 0s 0us/step\n",
            "(60000, 28, 28)\n",
            "(60000,)\n"
          ],
          "name": "stdout"
        },
        {
          "output_type": "execute_result",
          "data": {
            "text/plain": [
              "Text(0.5, 1.0, 'Ground Truth : 3')"
            ]
          },
          "metadata": {
            "tags": []
          },
          "execution_count": 2
        },
        {
          "output_type": "display_data",
          "data": {
            "image/png": "[encoded data removed]",
            "text/plain": [
              "<Figure size 432x288 with 1 Axes>"
            ]
          },
          "metadata": {
            "tags": [],
            "needs_background": "light"
          }
        }
      ]
    },
    {
      "cell_type": "code",
      "metadata": {
        "id": "o51ULhzCbqkG"
      },
      "source": [
        "#process the data\n",
        "#1. convert each image of shape 28*28 to 784 dimensional which will be fed to the network as a single feature\n",
        "dimData = np.prod(train_images.shape[1:])\n",
        "train_data = train_images.reshape(train_images.shape[0],dimData)\n",
        "test_data = test_images.reshape(test_images.shape[0],dimData)"
      ],
      "execution_count": 3,
      "outputs": []
    },
    {
      "cell_type": "code",
      "metadata": {
        "id": "LaOBGatKcH3P"
      },
      "source": [
        "#convert data to float and scale values between 0 and 1\n",
        "train_data = train_data.astype('float')\n",
        "test_data = test_data.astype('float')"
      ],
      "execution_count": 4,
      "outputs": []
    },
    {
      "cell_type": "code",
      "metadata": {
        "id": "4AOV0eThcNwN"
      },
      "source": [
        "#change the labels frominteger to one-hot encoding\n",
        "train_labels_one_hot = to_categorical(train_labels)\n",
        "test_labels_one_hot = to_categorical(test_labels)"
      ],
      "execution_count": 5,
      "outputs": []
    },
    {
      "cell_type": "code",
      "metadata": {
        "id": "rNIkwqXfcVsE"
      },
      "source": [
        "#creating network\n",
        "model = Sequential()\n",
        "model.add(Dense(512, activation='relu', input_shape=(dimData,)))\n",
        "model.add(Dense(512, activation='relu'))\n",
        "model.add(Dense(10, activation='softmax'))"
      ],
      "execution_count": 6,
      "outputs": []
    },
    {
      "cell_type": "code",
      "metadata": {
        "colab": {
          "base_uri": "https://localhost:8080/"
        },
        "id": "pAzTGIqtcg4Q",
        "outputId": "a717cb6f-9628-4d88-c691-34efcb67850f"
      },
      "source": [
        "model.compile(optimizer='rmsprop', loss='categorical_crossentropy', metrics=['accuracy'])\n",
        "history = model.fit(train_data, train_labels_one_hot, batch_size=256, epochs=20, verbose=1,\n",
        "                   validation_data=(test_data, test_labels_one_hot))\n",
        "\n",
        "[test_loss, test_acc] = model.evaluate(test_data, test_labels_one_hot)\n",
        "print(\"Evaluation result on Test Data : Loss = {}, accuracy = {}\".format(test_loss, test_acc))"
      ],
      "execution_count": 7,
      "outputs": [
        {
          "output_type": "stream",
          "text": [
            "Epoch 1/20\n",
            "235/235 [==============================] - 7s 27ms/step - loss: 24.0769 - accuracy: 0.7905 - val_loss: 1.1241 - val_accuracy: 0.8979\n",
            "Epoch 2/20\n",
            "235/235 [==============================] - 6s 25ms/step - loss: 0.4533 - accuracy: 0.9461 - val_loss: 0.3713 - val_accuracy: 0.9503\n",
            "Epoch 3/20\n",
            "235/235 [==============================] - 6s 25ms/step - loss: 0.2233 - accuracy: 0.9618 - val_loss: 0.3556 - val_accuracy: 0.9469\n",
            "Epoch 4/20\n",
            "235/235 [==============================] - 6s 25ms/step - loss: 0.1973 - accuracy: 0.9670 - val_loss: 0.2185 - val_accuracy: 0.9678\n",
            "Epoch 5/20\n",
            "235/235 [==============================] - 6s 25ms/step - loss: 0.1497 - accuracy: 0.9749 - val_loss: 0.4170 - val_accuracy: 0.9542\n",
            "Epoch 6/20\n",
            "235/235 [==============================] - 6s 25ms/step - loss: 0.1528 - accuracy: 0.9762 - val_loss: 0.3076 - val_accuracy: 0.9668\n",
            "Epoch 7/20\n",
            "235/235 [==============================] - 6s 25ms/step - loss: 0.1401 - accuracy: 0.9801 - val_loss: 0.3349 - val_accuracy: 0.9711\n",
            "Epoch 8/20\n",
            "235/235 [==============================] - 6s 25ms/step - loss: 0.1252 - accuracy: 0.9832 - val_loss: 0.4997 - val_accuracy: 0.9607\n",
            "Epoch 9/20\n",
            "235/235 [==============================] - 6s 25ms/step - loss: 0.1326 - accuracy: 0.9826 - val_loss: 0.4105 - val_accuracy: 0.9679\n",
            "Epoch 10/20\n",
            "235/235 [==============================] - 6s 25ms/step - loss: 0.1062 - accuracy: 0.9859 - val_loss: 0.3997 - val_accuracy: 0.9708\n",
            "Epoch 11/20\n",
            "235/235 [==============================] - 6s 25ms/step - loss: 0.1084 - accuracy: 0.9868 - val_loss: 0.4527 - val_accuracy: 0.9653\n",
            "Epoch 12/20\n",
            "235/235 [==============================] - 6s 25ms/step - loss: 0.0952 - accuracy: 0.9875 - val_loss: 0.6691 - val_accuracy: 0.9611\n",
            "Epoch 13/20\n",
            "235/235 [==============================] - 6s 25ms/step - loss: 0.1098 - accuracy: 0.9877 - val_loss: 0.4864 - val_accuracy: 0.9685\n",
            "Epoch 14/20\n",
            "235/235 [==============================] - 6s 25ms/step - loss: 0.1045 - accuracy: 0.9891 - val_loss: 0.5475 - val_accuracy: 0.9719\n",
            "Epoch 15/20\n",
            "235/235 [==============================] - 6s 25ms/step - loss: 0.0966 - accuracy: 0.9895 - val_loss: 0.6164 - val_accuracy: 0.9657\n",
            "Epoch 16/20\n",
            "235/235 [==============================] - 6s 25ms/step - loss: 0.0846 - accuracy: 0.9918 - val_loss: 0.4526 - val_accuracy: 0.9762\n",
            "Epoch 17/20\n",
            "235/235 [==============================] - 6s 25ms/step - loss: 0.0904 - accuracy: 0.9912 - val_loss: 0.5826 - val_accuracy: 0.9761\n",
            "Epoch 18/20\n",
            "235/235 [==============================] - 6s 25ms/step - loss: 0.0806 - accuracy: 0.9926 - val_loss: 0.6466 - val_accuracy: 0.9744\n",
            "Epoch 19/20\n",
            "235/235 [==============================] - 6s 25ms/step - loss: 0.0744 - accuracy: 0.9930 - val_loss: 0.5702 - val_accuracy: 0.9742\n",
            "Epoch 20/20\n",
            "235/235 [==============================] - 6s 25ms/step - loss: 0.0911 - accuracy: 0.9927 - val_loss: 0.7116 - val_accuracy: 0.9748\n",
            "313/313 [==============================] - 1s 3ms/step - loss: 0.7116 - accuracy: 0.9748\n",
            "Evaluation result on Test Data : Loss = 0.7115970849990845, accuracy = 0.9747999906539917\n"
          ],
          "name": "stdout"
        }
      ]
    }
  ]
}