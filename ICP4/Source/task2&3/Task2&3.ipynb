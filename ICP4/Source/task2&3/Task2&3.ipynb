{
  "nbformat": 4,
  "nbformat_minor": 0,
  "metadata": {
    "colab": {
      "name": "Untitled1.ipynb",
      "provenance": []
    },
    "kernelspec": {
      "name": "python3",
      "display_name": "Python 3"
    }
  },
  "cells": [
    {
      "cell_type": "code",
      "metadata": {
        "id": "Kbcdn9vrU-h-"
      },
      "source": [
        "import numpy as np\r\n",
        "import pandas as pd\r\n",
        "from sklearn.model_selection import train_test_split\r\n",
        "from sklearn.naive_bayes import GaussianNB\r\n",
        "from sklearn.metrics import accuracy_score, classification_report\r\n",
        "import matplotlib.pyplot as plt\r\n",
        "import seaborn as sns"
      ],
      "execution_count": 74,
      "outputs": []
    },
    {
      "cell_type": "code",
      "metadata": {
        "id": "QjnAjKs7VNuE"
      },
      "source": [
        "df = pd.read_csv('./glass.csv')"
      ],
      "execution_count": 75,
      "outputs": []
    },
    {
      "cell_type": "code",
      "metadata": {
        "id": "AB9to6kJVToi"
      },
      "source": [
        "x = df.drop('Type', axis=1)\r\n",
        "y= df['Type']"
      ],
      "execution_count": 76,
      "outputs": []
    },
    {
      "cell_type": "code",
      "metadata": {
        "id": "2rpxK014VXUC"
      },
      "source": [
        "x_train,x_test, y_train,y_test = train_test_split(x, y, test_size=0.50,random_state=200)"
      ],
      "execution_count": 115,
      "outputs": []
    },
    {
      "cell_type": "code",
      "metadata": {
        "colab": {
          "base_uri": "https://localhost:8080/"
        },
        "id": "1kuihcHkValQ",
        "outputId": "848a60e1-d007-46b5-d8e3-9db3a8173e0b"
      },
      "source": [
        "model = GaussianNB()\r\n",
        "model.fit(x_train,y_train)"
      ],
      "execution_count": 116,
      "outputs": [
        {
          "output_type": "execute_result",
          "data": {
            "text/plain": [
              "GaussianNB(priors=None, var_smoothing=1e-09)"
            ]
          },
          "metadata": {
            "tags": []
          },
          "execution_count": 116
        }
      ]
    },
    {
      "cell_type": "code",
      "metadata": {
        "id": "CR8jXEDbViJp"
      },
      "source": [
        "y_pred = model.predict(x_test)"
      ],
      "execution_count": 117,
      "outputs": []
    },
    {
      "cell_type": "code",
      "metadata": {
        "colab": {
          "base_uri": "https://localhost:8080/"
        },
        "id": "Dg6kxJgTVlyL",
        "outputId": "afc25205-e36b-459e-998c-714197057bf3"
      },
      "source": [
        "print(\"Accuracy:\",accuracy_score(y_test, y_pred) * 100)"
      ],
      "execution_count": 118,
      "outputs": [
        {
          "output_type": "stream",
          "text": [
            "Accuracy: 48.598130841121495\n"
          ],
          "name": "stdout"
        }
      ]
    },
    {
      "cell_type": "code",
      "metadata": {
        "colab": {
          "base_uri": "https://localhost:8080/"
        },
        "id": "oZrnQfsQVo9D",
        "outputId": "e6f7af84-facf-48a8-c93a-f81815646dcc"
      },
      "source": [
        "print(\"classification_report\\n\", classification_report(y_test, y_pred))"
      ],
      "execution_count": 86,
      "outputs": [
        {
          "output_type": "stream",
          "text": [
            "classification_report\n",
            "               precision    recall  f1-score   support\n",
            "\n",
            "           1       0.29      0.16      0.21        31\n",
            "           2       0.47      0.22      0.30        41\n",
            "           3       0.14      0.60      0.22        10\n",
            "           5       0.00      0.00      0.00         6\n",
            "           6       0.67      1.00      0.80         4\n",
            "           7       0.80      0.80      0.80        15\n",
            "\n",
            "    accuracy                           0.34       107\n",
            "   macro avg       0.40      0.46      0.39       107\n",
            "weighted avg       0.42      0.34      0.34       107\n",
            "\n"
          ],
          "name": "stdout"
        }
      ]
    },
    {
      "cell_type": "code",
      "metadata": {
        "id": "yiP2DYCCVqCW"
      },
      "source": [
        "from sklearn import svm"
      ],
      "execution_count": 37,
      "outputs": []
    },
    {
      "cell_type": "code",
      "metadata": {
        "id": "USuQGWamVvLz"
      },
      "source": [
        "clf = svm.SVC(kernel='linear')"
      ],
      "execution_count": 38,
      "outputs": []
    },
    {
      "cell_type": "code",
      "metadata": {
        "colab": {
          "base_uri": "https://localhost:8080/"
        },
        "id": "C5dmPEzdVyR-",
        "outputId": "d0bed365-4224-4700-a6c0-8f2aee5bf902"
      },
      "source": [
        "clf.fit(x_train, y_train)"
      ],
      "execution_count": 39,
      "outputs": [
        {
          "output_type": "execute_result",
          "data": {
            "text/plain": [
              "SVC(C=1.0, break_ties=False, cache_size=200, class_weight=None, coef0=0.0,\n",
              "    decision_function_shape='ovr', degree=3, gamma='scale', kernel='linear',\n",
              "    max_iter=-1, probability=False, random_state=None, shrinking=True,\n",
              "    tol=0.001, verbose=False)"
            ]
          },
          "metadata": {
            "tags": []
          },
          "execution_count": 39
        }
      ]
    },
    {
      "cell_type": "code",
      "metadata": {
        "id": "DuXoT-9YV1W4"
      },
      "source": [
        "y_svm_pred = clf.predict(x_test)"
      ],
      "execution_count": 40,
      "outputs": []
    },
    {
      "cell_type": "code",
      "metadata": {
        "colab": {
          "base_uri": "https://localhost:8080/"
        },
        "id": "tJ_Z3pEUV4ma",
        "outputId": "c1a445c0-a656-4a7e-ddf9-6fa7314e448a"
      },
      "source": [
        "print(\"Accuracy:\",accuracy_score(y_test, y_svm_pred) * 100)"
      ],
      "execution_count": 41,
      "outputs": [
        {
          "output_type": "stream",
          "text": [
            "Accuracy: 66.35514018691589\n"
          ],
          "name": "stdout"
        }
      ]
    },
    {
      "cell_type": "code",
      "metadata": {
        "colab": {
          "base_uri": "https://localhost:8080/"
        },
        "id": "ezQ-gchgV92Y",
        "outputId": "aeaeaf3c-a39f-4d6b-d329-dddb49395377"
      },
      "source": [
        "print(\"classification_report\\n\", classification_report(y_test, y_svm_pred))"
      ],
      "execution_count": 42,
      "outputs": [
        {
          "output_type": "stream",
          "text": [
            "classification_report\n",
            "               precision    recall  f1-score   support\n",
            "\n",
            "           1       0.69      0.69      0.69        35\n",
            "           2       0.54      0.67      0.60        39\n",
            "           3       0.00      0.00      0.00         6\n",
            "           5       0.83      0.71      0.77         7\n",
            "           6       0.33      0.25      0.29         4\n",
            "           7       1.00      0.94      0.97        16\n",
            "\n",
            "    accuracy                           0.66       107\n",
            "   macro avg       0.57      0.54      0.55       107\n",
            "weighted avg       0.64      0.66      0.65       107\n",
            "\n"
          ],
          "name": "stdout"
        },
        {
          "output_type": "stream",
          "text": [
            "/usr/local/lib/python3.6/dist-packages/sklearn/metrics/_classification.py:1272: UndefinedMetricWarning: Precision and F-score are ill-defined and being set to 0.0 in labels with no predicted samples. Use `zero_division` parameter to control this behavior.\n",
            "  _warn_prf(average, modifier, msg_start, len(result))\n"
          ],
          "name": "stderr"
        }
      ]
    }
  ]
}