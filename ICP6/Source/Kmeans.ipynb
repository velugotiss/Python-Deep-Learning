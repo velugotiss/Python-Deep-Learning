{
  "nbformat": 4,
  "nbformat_minor": 0,
  "metadata": {
    "kernelspec": {
      "display_name": "Python 3",
      "language": "python",
      "name": "python3"
    },
    "language_info": {
      "codemirror_mode": {
        "name": "ipython",
        "version": 3
      },
      "file_extension": ".py",
      "mimetype": "text/x-python",
      "name": "python",
      "nbconvert_exporter": "python",
      "pygments_lexer": "ipython3",
      "version": "3.7.6"
    },
    "colab": {
      "name": "KMeans-ICP-6.ipynb",
      "provenance": []
    }
  },
  "cells": [
    {
      "cell_type": "markdown",
      "metadata": {
        "id": "2f7bVjpjygVh"
      },
      "source": [
        "# Importing Libraries"
      ]
    },
    {
      "cell_type": "code",
      "metadata": {
        "id": "-iGwVUO-ygVl"
      },
      "source": [
        "import matplotlib.pyplot as plt\n",
        "%matplotlib inline\n",
        "import numpy as np\n",
        "import pandas as pd\n",
        "from sklearn.cluster import KMeans"
      ],
      "execution_count": 1,
      "outputs": []
    },
    {
      "cell_type": "markdown",
      "metadata": {
        "id": "gFuwmDM5ygVm"
      },
      "source": [
        "# Importing Dataset and Replacing null values with mean"
      ]
    },
    {
      "cell_type": "code",
      "metadata": {
        "id": "C1D41LH4ygVn"
      },
      "source": [
        "dataset = pd.read_csv(\"CC.csv\")"
      ],
      "execution_count": 2,
      "outputs": []
    },
    {
      "cell_type": "code",
      "metadata": {
        "id": "C3dKvYKyygVo"
      },
      "source": [
        "X = dataset.iloc[:, 1:]"
      ],
      "execution_count": 3,
      "outputs": []
    },
    {
      "cell_type": "code",
      "metadata": {
        "id": "Ku9hZMggygVp"
      },
      "source": [
        "X = X.select_dtypes(include=[np.number]).interpolate().fillna(X.select_dtypes(include=[np.number]).interpolate().mean(axis=0))"
      ],
      "execution_count": 4,
      "outputs": []
    },
    {
      "cell_type": "markdown",
      "metadata": {
        "id": "3edw06CNygVq"
      },
      "source": [
        "# Elbow Method to determine K value"
      ]
    },
    {
      "cell_type": "code",
      "metadata": {
        "colab": {
          "base_uri": "https://localhost:8080/",
          "height": 295
        },
        "id": "Hhy1QwwaygVr",
        "outputId": "445e7cd4-bd67-437d-cd9a-43a97f4660d1"
      },
      "source": [
        "from sklearn.cluster import KMeans\n",
        "wcss = []\n",
        "for i in range(1,11):\n",
        "  kmeans = KMeans(n_clusters=i, random_state=42)\n",
        "  kmeans.fit(X)\n",
        "  wcss.append(kmeans.inertia_)\n",
        "plt.plot(range(1,11),wcss)\n",
        "plt.title(\"Elbow Curve to determine number of clusters\")\n",
        "plt.xlabel(\"Number of clusters\")\n",
        "plt.ylabel(\"KMeans Score\")\n",
        "plt.show()"
      ],
      "execution_count": 5,
      "outputs": [
        {
          "output_type": "display_data",
          "data": {
            "image/png": "[encoded data removed]",
            "text/plain": [
              "<Figure size 432x288 with 1 Axes>"
            ]
          },
          "metadata": {
            "tags": [],
            "needs_background": "light"
          }
        }
      ]
    },
    {
      "cell_type": "markdown",
      "metadata": {
        "id": "ovtCeyPxygVs"
      },
      "source": [
        "# KMeans Model without scaling"
      ]
    },
    {
      "cell_type": "code",
      "metadata": {
        "colab": {
          "base_uri": "https://localhost:8080/"
        },
        "id": "b8qy-LaxygVt",
        "outputId": "796975ed-8f5a-4070-cc4a-47fa0d949116"
      },
      "source": [
        "# k=3\n",
        "kmeans = KMeans(n_clusters=3, random_state=42)\n",
        "kmeans.fit(X)"
      ],
      "execution_count": 6,
      "outputs": [
        {
          "output_type": "execute_result",
          "data": {
            "text/plain": [
              "KMeans(algorithm='auto', copy_x=True, init='k-means++', max_iter=300,\n",
              "       n_clusters=3, n_init=10, n_jobs=None, precompute_distances='auto',\n",
              "       random_state=42, tol=0.0001, verbose=0)"
            ]
          },
          "metadata": {
            "tags": []
          },
          "execution_count": 6
        }
      ]
    },
    {
      "cell_type": "code",
      "metadata": {
        "id": "bJrYrAxoygVu"
      },
      "source": [
        "y_cluster_kmeans = kmeans.predict(X)"
      ],
      "execution_count": 7,
      "outputs": []
    },
    {
      "cell_type": "markdown",
      "metadata": {
        "id": "F2WC7KYTygVv"
      },
      "source": [
        "# Score Calculation"
      ]
    },
    {
      "cell_type": "code",
      "metadata": {
        "id": "0_ngVZQ9ygVw"
      },
      "source": [
        "from sklearn import metrics\n",
        "score = metrics.silhouette_score(X, y_cluster_kmeans)"
      ],
      "execution_count": 8,
      "outputs": []
    },
    {
      "cell_type": "markdown",
      "metadata": {
        "id": "R6OD3xxMygVw"
      },
      "source": [
        "# Scaling the Data"
      ]
    },
    {
      "cell_type": "code",
      "metadata": {
        "id": "BypiTXyjygVx"
      },
      "source": [
        "from sklearn.preprocessing import StandardScaler\n",
        "sc = StandardScaler()\n",
        "sc.fit(X)\n",
        "X_scaled = sc.transform(X)"
      ],
      "execution_count": 9,
      "outputs": []
    },
    {
      "cell_type": "markdown",
      "metadata": {
        "id": "3-wcRcbsygVx"
      },
      "source": [
        "# KMeans Model after Scaling"
      ]
    },
    {
      "cell_type": "code",
      "metadata": {
        "colab": {
          "base_uri": "https://localhost:8080/"
        },
        "id": "dJryEdZ5ygVy",
        "outputId": "ed30145a-264d-4477-b25c-086f4d76faf4"
      },
      "source": [
        "scaled_kmeans = KMeans(n_clusters=3, random_state=42)\n",
        "scaled_kmeans.fit(X_scaled)"
      ],
      "execution_count": 10,
      "outputs": [
        {
          "output_type": "execute_result",
          "data": {
            "text/plain": [
              "KMeans(algorithm='auto', copy_x=True, init='k-means++', max_iter=300,\n",
              "       n_clusters=3, n_init=10, n_jobs=None, precompute_distances='auto',\n",
              "       random_state=42, tol=0.0001, verbose=0)"
            ]
          },
          "metadata": {
            "tags": []
          },
          "execution_count": 10
        }
      ]
    },
    {
      "cell_type": "code",
      "metadata": {
        "id": "TNRclAmeygVz"
      },
      "source": [
        "y_scaled_kmeans = scaled_kmeans.predict(X_scaled)"
      ],
      "execution_count": 11,
      "outputs": []
    },
    {
      "cell_type": "code",
      "metadata": {
        "id": "ZZ_-HApAygV2"
      },
      "source": [
        "scaled_score = metrics.silhouette_score(X, y_scaled_kmeans)"
      ],
      "execution_count": 12,
      "outputs": []
    },
    {
      "cell_type": "markdown",
      "metadata": {
        "id": "uR8MXEJ5ygV2"
      },
      "source": [
        "# Applying PCA on data"
      ]
    },
    {
      "cell_type": "code",
      "metadata": {
        "id": "CCoMSaTbygV3"
      },
      "source": [
        "from sklearn.decomposition import PCA\n",
        "pca = PCA(3)\n",
        "X_pca = pca.fit_transform(X)"
      ],
      "execution_count": 13,
      "outputs": []
    },
    {
      "cell_type": "markdown",
      "metadata": {
        "id": "XC9ORWo1ygV3"
      },
      "source": [
        "# KMeans model after applying PCA"
      ]
    },
    {
      "cell_type": "code",
      "metadata": {
        "id": "RkgEzskdygV4"
      },
      "source": [
        "kmeans_pca = KMeans(n_clusters=3)\n",
        "kmeans_pca.fit(X_pca)\n",
        "y_pca_kmeans= kmeans_pca.predict(X_pca)\n",
        "pca_score = metrics.silhouette_score(X_pca, y_pca_kmeans)"
      ],
      "execution_count": 15,
      "outputs": []
    },
    {
      "cell_type": "markdown",
      "metadata": {
        "id": "tnOiZFj1ygV4"
      },
      "source": [
        "# KMeans Model after applying PCA on scaled Data"
      ]
    },
    {
      "cell_type": "code",
      "metadata": {
        "id": "OYrsTusdygV5"
      },
      "source": [
        "pca_scaled = PCA(2)\n",
        "X_pca_scaled= pca_scaled.fit_transform(X_scaled)"
      ],
      "execution_count": 16,
      "outputs": []
    },
    {
      "cell_type": "code",
      "metadata": {
        "colab": {
          "base_uri": "https://localhost:8080/"
        },
        "id": "iUFgeEQYygV5",
        "outputId": "c7e5ad16-b249-4400-af2a-b553b2abbd2e"
      },
      "source": [
        "kmeans_pca_scaled = KMeans(n_clusters=3)\n",
        "kmeans_pca_scaled.fit(X_pca_scaled)\n",
        "y_pca_kmeans_scaled = kmeans_pca_scaled.predict(X_pca_scaled)\n",
        "pca_scaled_score = metrics.silhouette_score(X_pca_scaled, y_pca_kmeans_scaled)\n",
        "y_pca_kmeans_scaled"
      ],
      "execution_count": 17,
      "outputs": [
        {
          "output_type": "execute_result",
          "data": {
            "text/plain": [
              "array([0, 2, 0, ..., 0, 0, 0], dtype=int32)"
            ]
          },
          "metadata": {
            "tags": []
          },
          "execution_count": 17
        }
      ]
    },
    {
      "cell_type": "markdown",
      "metadata": {
        "id": "ubxySqX2ygV6"
      },
      "source": [
        "# Score comparisons"
      ]
    },
    {
      "cell_type": "code",
      "metadata": {
        "colab": {
          "base_uri": "https://localhost:8080/"
        },
        "id": "3Hsnx9CAygV7",
        "outputId": "98b4c75d-03d3-495a-ba1d-0faffc98daa8"
      },
      "source": [
        "print(\"Score before Scaling :\", score)\n",
        "print(\"Score after Scaling :\", scaled_score)\n",
        "print(\"Score after applying PCA:\",pca_score)\n",
        "print(\"Score after applying PCA on scaled data:\",pca_scaled_score)"
      ],
      "execution_count": 19,
      "outputs": [
        {
          "output_type": "stream",
          "text": [
            "Score before Scaling : 0.46616535013870103\n",
            "Score after Scaling : 0.3394686960076873\n",
            "Score after applying PCA: 0.510603108232152\n",
            "Score after applying PCA on scaled data: 0.45092949148736816\n"
          ],
          "name": "stdout"
        }
      ]
    },
    {
      "cell_type": "markdown",
      "metadata": {
        "id": "q2duOqnoygV7"
      },
      "source": [
        "# Plotting Clusters"
      ]
    },
    {
      "cell_type": "code",
      "metadata": {
        "colab": {
          "base_uri": "https://localhost:8080/",
          "height": 265
        },
        "id": "lLU24HheygV8",
        "outputId": "6d9757db-5f57-4613-84bc-94c25dec1230"
      },
      "source": [
        "colors = [\"red\", \"blue\", \"green\"]\n",
        "for i in range(3):\n",
        "    x_axis = X_pca_scaled[y_pca_kmeans_scaled == i][:,0]\n",
        "    y_axis = X_pca_scaled[y_pca_kmeans_scaled == i][:,1]\n",
        "    plt.scatter(x_axis,y_axis,color=colors[i]) "
      ],
      "execution_count": 20,
      "outputs": [
        {
          "output_type": "display_data",
          "data": {
            "image/png": "[encoded data removed]",
            "text/plain": [
              "<Figure size 432x288 with 1 Axes>"
            ]
          },
          "metadata": {
            "tags": [],
            "needs_background": "light"
          }
        }
      ]
    },
    {
      "cell_type": "code",
      "metadata": {
        "id": "zDPUWEqWygV9"
      },
      "source": [
        ""
      ],
      "execution_count": null,
      "outputs": []
    }
  ]
}