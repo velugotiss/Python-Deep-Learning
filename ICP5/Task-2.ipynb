{
  "nbformat": 4,
  "nbformat_minor": 0,
  "metadata": {
    "colab": {
      "name": "Untitled3.ipynb",
      "provenance": []
    },
    "kernelspec": {
      "name": "python3",
      "display_name": "Python 3"
    }
  },
  "cells": [
    {
      "cell_type": "code",
      "metadata": {
        "id": "P_eK-2_Fijx-"
      },
      "source": [
        "import pandas as pd\r\n",
        "import numpy as np\r\n",
        "import matplotlib.pyplot as plt\r\n",
        "import sns as sns"
      ],
      "execution_count": 91,
      "outputs": []
    },
    {
      "cell_type": "code",
      "metadata": {
        "id": "Y66oW0NhinrT"
      },
      "source": [
        "restaurant_data = pd.read_csv('data.csv')"
      ],
      "execution_count": 97,
      "outputs": []
    },
    {
      "cell_type": "code",
      "metadata": {
        "id": "MWlATp2cjeLw"
      },
      "source": [
        "# handling missing value\r\n",
        "data = restaurant_data.select_dtypes(include=[np.number]).interpolate().dropna()\r\n",
        "# Build a linear model\r\n",
        "y = np.log(restaurant_data.revenue)\r\n",
        "X = data.drop(['revenue', 'Id'], axis=1)"
      ],
      "execution_count": 98,
      "outputs": []
    },
    {
      "cell_type": "code",
      "metadata": {
        "id": "Ra59imGUji1L"
      },
      "source": [
        "from sklearn.model_selection import train_test_split\r\n",
        "X_train, X_test, y_train, y_test = train_test_split(\r\n",
        "    X, y, random_state=42, test_size=.20)\r\n",
        "from sklearn import linear_model\r\n",
        "lr = linear_model.LinearRegression()\r\n",
        "model = lr.fit(X_train, y_train)\r\n",
        "\r\n"
      ],
      "execution_count": 101,
      "outputs": []
    },
    {
      "cell_type": "code",
      "metadata": {
        "colab": {
          "base_uri": "https://localhost:8080/"
        },
        "id": "5RQEYkOqjoCo",
        "outputId": "4a819101-e485-4195-8c62-9419e7fc524d"
      },
      "source": [
        "# Evaluate the performance and visualize results\r\n",
        "print(\"R^2 is: \\n\", model.score(X_test, y_test))\r\n",
        "predictions = model.predict(X_test)\r\n",
        "from sklearn.metrics import mean_squared_error\r\n",
        "print('RMSE is: \\n', mean_squared_error(y_test, predictions))\r\n",
        "\r\n"
      ],
      "execution_count": 95,
      "outputs": [
        {
          "output_type": "stream",
          "text": [
            "R^2 is: \n",
            " -1.1280520942721401\n",
            "RMSE is: \n",
            " 0.6344522415501069\n"
          ],
          "name": "stdout"
        }
      ]
    },
    {
      "cell_type": "code",
      "metadata": {
        "id": "TpTwtKyKjrVV"
      },
      "source": [
        "import seaborn as sns\r\n",
        "import matplotlib.pyplot as plt"
      ],
      "execution_count": 33,
      "outputs": []
    },
    {
      "cell_type": "code",
      "metadata": {
        "colab": {
          "base_uri": "https://localhost:8080/",
          "height": 279
        },
        "id": "zc6KyMEZjw3j",
        "outputId": "54389433-cec3-4c90-9509-d5c15bdf0361"
      },
      "source": [
        "sns.regplot(x=y_test, y=predictions, ci=None, color=\"b\")\r\n",
        "# show the plot\r\n",
        "plt.show()"
      ],
      "execution_count": 34,
      "outputs": [
        {
          "output_type": "display_data",
          "data": {
            "image/png": "[encoded data removed]",
            "text/plain": [
              "<Figure size 432x288 with 1 Axes>"
            ]
          },
          "metadata": {
            "tags": [],
            "needs_background": "light"
          }
        }
      ]
    }
  ]
}