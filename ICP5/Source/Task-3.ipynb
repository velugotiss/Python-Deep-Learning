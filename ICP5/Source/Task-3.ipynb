{
  "nbformat": 4,
  "nbformat_minor": 0,
  "metadata": {
    "colab": {
      "name": "Untitled6.ipynb",
      "provenance": []
    },
    "kernelspec": {
      "name": "python3",
      "display_name": "Python 3"
    }
  },
  "cells": [
    {
      "cell_type": "code",
      "metadata": {
        "colab": {
          "base_uri": "https://localhost:8080/"
        },
        "id": "V7ITOX6c6ADo",
        "outputId": "59550cba-9cac-4bdf-98cf-a8bea89bf316"
      },
      "source": [
        "import pandas\r\n",
        "from sklearn import linear_model\r\n",
        "from sklearn.metrics import mean_squared_error, r2_score\r\n",
        "import numpy as np\r\n",
        "import matplotlib.pyplot as plt\r\n",
        "from sklearn.model_selection import train_test_split\r\n",
        "data = pandas.read_csv(\"data.csv\")\r\n",
        "train_data = data.drop(['revenue','City Group','Type'], axis=1)\r\n",
        "print(type(train_data))\r\n",
        "test_data = restaurent_data[\"revenue\"].astype(str)\r\n",
        "print(type(test_data))\r\n",
        "regression_1 = linear_model.LinearRegression()\r\n",
        "regression_1.fit(train_data, test_data)\r\n",
        "revenue_pred=regression.predict(train_data)"
      ],
      "execution_count": 10,
      "outputs": [
        {
          "output_type": "stream",
          "text": [
            "<class 'pandas.core.frame.DataFrame'>\n",
            "<class 'pandas.core.series.Series'>\n"
          ],
          "name": "stdout"
        }
      ]
    },
    {
      "cell_type": "code",
      "metadata": {
        "colab": {
          "base_uri": "https://localhost:8080/"
        },
        "id": "ZNKJvEre6O5G",
        "outputId": "903919c2-92dc-481e-9b77-135cbb9bf1b2"
      },
      "source": [
        "print(\"Variance score: %.2f\" % r2_score(test_data,revenue_pred))\r\n",
        "print(\"Mean squared error: %.2f\" % mean_squared_error(test_data,revenue_pred))"
      ],
      "execution_count": 12,
      "outputs": [
        {
          "output_type": "stream",
          "text": [
            "Variance score: 0.29\n",
            "Mean squared error: 4654326715639.52\n"
          ],
          "name": "stdout"
        }
      ]
    },
    {
      "cell_type": "code",
      "metadata": {
        "colab": {
          "base_uri": "https://localhost:8080/"
        },
        "id": "xlJY7mSP6ZIL",
        "outputId": "48a18aab-d4be-47e2-8c33-058e61c5cab5"
      },
      "source": [
        "numeric_features = data.select_dtypes(include=[np.number])\r\n",
        "corr = numeric_features.corr()\r\n",
        "print('Top 5 correlated variables to the target variable quality is: ')\r\n",
        "print(corr['revenue'].sort_values(ascending=False)[0:6],'\\n')\r\n"
      ],
      "execution_count": 13,
      "outputs": [
        {
          "output_type": "stream",
          "text": [
            "Top 5 correlated variables to the target variable quality is: \n",
            "revenue    1.000000\n",
            "P2         0.191518\n",
            "P28        0.155534\n",
            "P6         0.139094\n",
            "P21        0.097411\n",
            "P11        0.084247\n",
            "Name: revenue, dtype: float64 \n",
            "\n"
          ],
          "name": "stdout"
        }
      ]
    },
    {
      "cell_type": "code",
      "metadata": {
        "colab": {
          "base_uri": "https://localhost:8080/",
          "height": 296
        },
        "id": "kuMY5yLT6aXv",
        "outputId": "a67588b4-463e-44ff-9e41-412bed96a61f"
      },
      "source": [
        "quality_pivot = data.pivot_table(index=['P2'],values=['revenue'],aggfunc=np.median)\r\n",
        "quality_pivot.plot(kind='bar',color ='blue')\r\n",
        "plt.show()"
      ],
      "execution_count": 14,
      "outputs": [
        {
          "output_type": "display_data",
          "data": {
            "image/png": "[encoded data removed]",
            "text/plain": [
              "<Figure size 432x288 with 1 Axes>"
            ]
          },
          "metadata": {
            "tags": [],
            "needs_background": "light"
          }
        }
      ]
    },
    {
      "cell_type": "code",
      "metadata": {
        "colab": {
          "base_uri": "https://localhost:8080/"
        },
        "id": "NxAOMyfM6hvD",
        "outputId": "2c09108a-de88-4ea0-c72a-068aaf051094"
      },
      "source": [
        "corelated_features = data[['P2','P28','P6','P21','P11']]\r\n",
        "corelated_target = data['revenue']\r\n",
        "#X_train, X_test,y_train, y_test = train_test_split(corelated_features,corelated_target,test_size=0.33,random_state=42)\r\n",
        "regr1 = linear_model.LinearRegression()\r\n",
        "regr1.fit(corelated_features,corelated_target)\r\n"
      ],
      "execution_count": 15,
      "outputs": [
        {
          "output_type": "execute_result",
          "data": {
            "text/plain": [
              "LinearRegression(copy_X=True, fit_intercept=True, n_jobs=None, normalize=False)"
            ]
          },
          "metadata": {
            "tags": []
          },
          "execution_count": 15
        }
      ]
    },
    {
      "cell_type": "code",
      "metadata": {
        "colab": {
          "base_uri": "https://localhost:8080/"
        },
        "id": "IHg8LN2J6iqE",
        "outputId": "aac83b59-5d24-44c6-b00e-ec2960e39133"
      },
      "source": [
        "prediction1=regr1.predict(corelated_features)\r\n",
        "\r\n",
        "print(\"Variance score: %.2f\" % r2_score(corelated_target,prediction1))\r\n",
        "print('mse',mean_squared_error(corelated_target,prediction1))"
      ],
      "execution_count": 16,
      "outputs": [
        {
          "output_type": "stream",
          "text": [
            "Variance score: 0.04\n",
            "mse 6339957718304.595\n"
          ],
          "name": "stdout"
        }
      ]
    }
  ]
}