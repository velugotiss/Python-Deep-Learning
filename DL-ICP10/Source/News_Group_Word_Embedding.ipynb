{
  "nbformat": 4,
  "nbformat_minor": 0,
  "metadata": {
    "kernelspec": {
      "display_name": "Python 3",
      "language": "python",
      "name": "python3"
    },
    "language_info": {
      "codemirror_mode": {
        "name": "ipython",
        "version": 3
      },
      "file_extension": ".py",
      "mimetype": "text/x-python",
      "name": "python",
      "nbconvert_exporter": "python",
      "pygments_lexer": "ipython3",
      "version": "3.7.7"
    },
    "colab": {
      "name": "News Group Word Embedding.ipynb",
      "provenance": []
    }
  },
  "cells": [
    {
      "cell_type": "code",
      "metadata": {
        "id": "iZA660rYyEIp"
      },
      "source": [
        "# Importing the libraries\n",
        "from keras.models import Sequential\n",
        "from keras import layers\n",
        "from keras.preprocessing.text import Tokenizer\n",
        "import pandas as pd\n",
        "import numpy as np\n",
        "from sklearn import preprocessing\n",
        "from sklearn.model_selection import train_test_split"
      ],
      "execution_count": 1,
      "outputs": []
    },
    {
      "cell_type": "code",
      "metadata": {
        "colab": {
          "base_uri": "https://localhost:8080/"
        },
        "id": "G8WUM4p1yEIv",
        "outputId": "eef307a1-ad29-4653-d2ca-14eef0ed4516"
      },
      "source": [
        "# Importing News Datasets\n",
        "from sklearn.datasets import fetch_20newsgroups\n",
        "twenty_train = fetch_20newsgroups(subset='train', shuffle=True)"
      ],
      "execution_count": 2,
      "outputs": [
        {
          "output_type": "stream",
          "text": [
            "Downloading 20news dataset. This may take a few minutes.\n",
            "Downloading dataset from https://ndownloader.figshare.com/files/5975967 (14 MB)\n"
          ],
          "name": "stderr"
        }
      ]
    },
    {
      "cell_type": "code",
      "metadata": {
        "id": "aI5ffn7eyEIw"
      },
      "source": [
        "# Features and Target Extraction\n",
        "sentences= twenty_train.data\n",
        "y=twenty_train.target"
      ],
      "execution_count": 3,
      "outputs": []
    },
    {
      "cell_type": "code",
      "metadata": {
        "id": "rwvyobAkyEIw"
      },
      "source": [
        "# Tokenizing data\n",
        "tokenizer = Tokenizer(num_words=2000)"
      ],
      "execution_count": 4,
      "outputs": []
    },
    {
      "cell_type": "code",
      "metadata": {
        "id": "uz4DB0fMyEIw"
      },
      "source": [
        "# Preprocessing the data\n",
        "from keras.preprocessing.sequence import pad_sequences\n",
        "max_review_len= max([len(s.split()) for s in sentences])\n",
        "vocab_size= len(tokenizer.word_index)+1\n",
        "sentencesPre = tokenizer.texts_to_sequences(sentences)\n",
        "padded_docs= pad_sequences(sentencesPre,maxlen=max_review_len)\n",
        "X_train, X_test, y_train, y_test = train_test_split(padded_docs, y, test_size=0.25, random_state=1000)"
      ],
      "execution_count": 5,
      "outputs": []
    },
    {
      "cell_type": "code",
      "metadata": {
        "id": "W5K09x0UyEIx"
      },
      "source": [
        "# Model Implementation\n",
        "from keras.layers import Embedding, Flatten\n",
        "model = Sequential()\n",
        "model.add(Embedding(vocab_size, 50, input_length=max_review_len))\n",
        "model.add(Flatten())\n",
        "model.add(layers.Dense(300, activation='relu',input_dim=max_review_len))\n",
        "model.add(layers.Dense(20, activation='softmax'))\n",
        "model.compile(loss='sparse_categorical_crossentropy',optimizer='adam',metrics=['acc'])"
      ],
      "execution_count": 6,
      "outputs": []
    },
    {
      "cell_type": "code",
      "metadata": {
        "colab": {
          "base_uri": "https://localhost:8080/"
        },
        "id": "ReyUATaFyEIx",
        "outputId": "ef376ef2-a2fe-49a8-c126-d0261b373b8a"
      },
      "source": [
        "history = model.fit(X_train,y_train, epochs=5, verbose=True, validation_data=(X_test,y_test), batch_size=256)\n",
        "\n",
        "# Model Evaluation\n",
        "[test_loss, test_acc] = model.evaluate(X_test, y_test)\n",
        "print(\"Evaluation result on Test Data : Loss = {}, accuracy = {}\".format(test_loss, test_acc))"
      ],
      "execution_count": 7,
      "outputs": [
        {
          "output_type": "stream",
          "text": [
            "Epoch 1/5\n",
            "34/34 [==============================] - 247s 7s/step - loss: 16.9501 - acc: 0.0502 - val_loss: 2.9959 - val_acc: 0.0516\n",
            "Epoch 2/5\n",
            "34/34 [==============================] - 243s 7s/step - loss: 2.9980 - acc: 0.0504 - val_loss: 2.9956 - val_acc: 0.0516\n",
            "Epoch 3/5\n",
            "34/34 [==============================] - 243s 7s/step - loss: 2.9956 - acc: 0.0501 - val_loss: 2.9950 - val_acc: 0.0516\n",
            "Epoch 4/5\n",
            "34/34 [==============================] - 242s 7s/step - loss: 2.9951 - acc: 0.0521 - val_loss: 2.9945 - val_acc: 0.0516\n",
            "Epoch 5/5\n",
            "34/34 [==============================] - 242s 7s/step - loss: 2.9949 - acc: 0.0533 - val_loss: 2.9940 - val_acc: 0.0516\n",
            "89/89 [==============================] - 31s 346ms/step - loss: 2.9940 - acc: 0.0516\n",
            "Evaluation result on Test Data : Loss = 2.9939870834350586, accuracy = 0.05160834267735481\n"
          ],
          "name": "stdout"
        }
      ]
    },
    {
      "cell_type": "code",
      "metadata": {
        "colab": {
          "base_uri": "https://localhost:8080/"
        },
        "id": "MrDqCTCGyEIy",
        "outputId": "beed5ae7-c9e5-4ed0-9b94-1668c65308e5"
      },
      "source": [
        "# Predicting the Value for test sample\n",
        "pred = model.predict_classes(X_test[[2],:])\n",
        "print(\"Actual Prediction\",y_test[1],\"Predicted Prediction\", pred)"
      ],
      "execution_count": 8,
      "outputs": [
        {
          "output_type": "stream",
          "text": [
            "/usr/local/lib/python3.7/dist-packages/tensorflow/python/keras/engine/sequential.py:450: UserWarning: `model.predict_classes()` is deprecated and will be removed after 2021-01-01. Please use instead:* `np.argmax(model.predict(x), axis=-1)`,   if your model does multi-class classification   (e.g. if it uses a `softmax` last-layer activation).* `(model.predict(x) > 0.5).astype(\"int32\")`,   if your model does binary classification   (e.g. if it uses a `sigmoid` last-layer activation).\n",
            "  warnings.warn('`model.predict_classes()` is deprecated and '\n"
          ],
          "name": "stderr"
        },
        {
          "output_type": "stream",
          "text": [
            "Actual Prediction 6 Predicted Prediction [15]\n"
          ],
          "name": "stdout"
        }
      ]
    },
    {
      "cell_type": "code",
      "metadata": {
        "colab": {
          "base_uri": "https://localhost:8080/",
          "height": 295
        },
        "id": "ADzZWiVKyEIy",
        "outputId": "31cefc8c-ceda-49b9-860e-9fff7e977bdc"
      },
      "source": [
        "import matplotlib.pyplot as plt\n",
        "plt.plot(history.history['acc'])\n",
        "plt.plot(history.history['val_acc'])\n",
        "plt.plot(history.history['loss'])\n",
        "plt.plot(history.history['val_loss'])\n",
        "plt.title('model accuracy')\n",
        "plt.ylabel('accuracy')\n",
        "plt.xlabel('epoch')\n",
        "plt.legend(['accuray', 'val_accuracy','loss','val_loss'], loc='upper left')\n",
        "plt.show()"
      ],
      "execution_count": 9,
      "outputs": [
        {
          "output_type": "display_data",
          "data": {
            "image/png": "[encoded data removed]",
            "text/plain": [
              "<Figure size 432x288 with 1 Axes>"
            ]
          },
          "metadata": {
            "tags": [],
            "needs_background": "light"
          }
        }
      ]
    }
  ]
}