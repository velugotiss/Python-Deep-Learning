{
  "nbformat": 4,
  "nbformat_minor": 0,
  "metadata": {
    "colab": {
      "name": "Untitled16.ipynb",
      "provenance": []
    },
    "kernelspec": {
      "name": "python3",
      "display_name": "Python 3"
    },
    "language_info": {
      "name": "python"
    }
  },
  "cells": [
    {
      "cell_type": "code",
      "metadata": {
        "id": "7mytummHMkjw"
      },
      "source": [
        "# Importing Libraries\n",
        "import pandas as pd\n",
        "import numpy as np\n",
        "from keras.preprocessing.text import Tokenizer\n",
        "from keras.preprocessing.sequence import pad_sequences\n",
        "from keras.models import Sequential\n",
        "from keras.layers import Dense, Embedding, LSTM, SpatialDropout1D\n",
        "from matplotlib import pyplot\n",
        "from sklearn.model_selection import train_test_split\n",
        "from keras.utils.np_utils import to_categorical\n",
        "import re\n",
        "from sklearn.preprocessing import LabelEncoder"
      ],
      "execution_count": 2,
      "outputs": []
    },
    {
      "cell_type": "code",
      "metadata": {
        "colab": {
          "base_uri": "https://localhost:8080/",
          "height": 195
        },
        "id": "1aua3ooGMlt8",
        "outputId": "5f1370f3-70c3-4dfe-b4cf-19bca83086a5"
      },
      "source": [
        "\n",
        "# Reading the Data\n",
        "data = pd.read_csv('Sentiment.csv')\n",
        "\n",
        "# Keeping only the neccessary columns\n",
        "data = data[['text','sentiment']]\n",
        "data.head()"
      ],
      "execution_count": 3,
      "outputs": [
        {
          "output_type": "execute_result",
          "data": {
            "text/html": [
              "<div>\n",
              "<style scoped>\n",
              "    .dataframe tbody tr th:only-of-type {\n",
              "        vertical-align: middle;\n",
              "    }\n",
              "\n",
              "    .dataframe tbody tr th {\n",
              "        vertical-align: top;\n",
              "    }\n",
              "\n",
              "    .dataframe thead th {\n",
              "        text-align: right;\n",
              "    }\n",
              "</style>\n",
              "<table border=\"1\" class=\"dataframe\">\n",
              "  <thead>\n",
              "    <tr style=\"text-align: right;\">\n",
              "      <th></th>\n",
              "      <th>text</th>\n",
              "      <th>sentiment</th>\n",
              "    </tr>\n",
              "  </thead>\n",
              "  <tbody>\n",
              "    <tr>\n",
              "      <th>0</th>\n",
              "      <td>RT @NancyLeeGrahn: How did everyone feel about...</td>\n",
              "      <td>Neutral</td>\n",
              "    </tr>\n",
              "    <tr>\n",
              "      <th>1</th>\n",
              "      <td>RT @ScottWalker: Didn't catch the full #GOPdeb...</td>\n",
              "      <td>Positive</td>\n",
              "    </tr>\n",
              "    <tr>\n",
              "      <th>2</th>\n",
              "      <td>RT @TJMShow: No mention of Tamir Rice and the ...</td>\n",
              "      <td>Neutral</td>\n",
              "    </tr>\n",
              "    <tr>\n",
              "      <th>3</th>\n",
              "      <td>RT @RobGeorge: That Carly Fiorina is trending ...</td>\n",
              "      <td>Positive</td>\n",
              "    </tr>\n",
              "    <tr>\n",
              "      <th>4</th>\n",
              "      <td>RT @DanScavino: #GOPDebate w/ @realDonaldTrump...</td>\n",
              "      <td>Positive</td>\n",
              "    </tr>\n",
              "  </tbody>\n",
              "</table>\n",
              "</div>"
            ],
            "text/plain": [
              "                                                text sentiment\n",
              "0  RT @NancyLeeGrahn: How did everyone feel about...   Neutral\n",
              "1  RT @ScottWalker: Didn't catch the full #GOPdeb...  Positive\n",
              "2  RT @TJMShow: No mention of Tamir Rice and the ...   Neutral\n",
              "3  RT @RobGeorge: That Carly Fiorina is trending ...  Positive\n",
              "4  RT @DanScavino: #GOPDebate w/ @realDonaldTrump...  Positive"
            ]
          },
          "metadata": {
            "tags": []
          },
          "execution_count": 3
        }
      ]
    },
    {
      "cell_type": "code",
      "metadata": {
        "colab": {
          "base_uri": "https://localhost:8080/",
          "height": 195
        },
        "id": "ij0TQYcGNb45",
        "outputId": "f61691cc-c7ba-47b8-9f66-a5397007e188"
      },
      "source": [
        "# Preprocessing the Data\n",
        "data['text'] = data['text'].apply(lambda x: x.lower())\n",
        "data['text'] = data['text'].apply((lambda x: re.sub('[^a-zA-z0-9\\s]', '', x)))\n",
        "data.head()"
      ],
      "execution_count": 4,
      "outputs": [
        {
          "output_type": "execute_result",
          "data": {
            "text/html": [
              "<div>\n",
              "<style scoped>\n",
              "    .dataframe tbody tr th:only-of-type {\n",
              "        vertical-align: middle;\n",
              "    }\n",
              "\n",
              "    .dataframe tbody tr th {\n",
              "        vertical-align: top;\n",
              "    }\n",
              "\n",
              "    .dataframe thead th {\n",
              "        text-align: right;\n",
              "    }\n",
              "</style>\n",
              "<table border=\"1\" class=\"dataframe\">\n",
              "  <thead>\n",
              "    <tr style=\"text-align: right;\">\n",
              "      <th></th>\n",
              "      <th>text</th>\n",
              "      <th>sentiment</th>\n",
              "    </tr>\n",
              "  </thead>\n",
              "  <tbody>\n",
              "    <tr>\n",
              "      <th>0</th>\n",
              "      <td>rt nancyleegrahn how did everyone feel about t...</td>\n",
              "      <td>Neutral</td>\n",
              "    </tr>\n",
              "    <tr>\n",
              "      <th>1</th>\n",
              "      <td>rt scottwalker didnt catch the full gopdebate ...</td>\n",
              "      <td>Positive</td>\n",
              "    </tr>\n",
              "    <tr>\n",
              "      <th>2</th>\n",
              "      <td>rt tjmshow no mention of tamir rice and the go...</td>\n",
              "      <td>Neutral</td>\n",
              "    </tr>\n",
              "    <tr>\n",
              "      <th>3</th>\n",
              "      <td>rt robgeorge that carly fiorina is trending  h...</td>\n",
              "      <td>Positive</td>\n",
              "    </tr>\n",
              "    <tr>\n",
              "      <th>4</th>\n",
              "      <td>rt danscavino gopdebate w realdonaldtrump deli...</td>\n",
              "      <td>Positive</td>\n",
              "    </tr>\n",
              "  </tbody>\n",
              "</table>\n",
              "</div>"
            ],
            "text/plain": [
              "                                                text sentiment\n",
              "0  rt nancyleegrahn how did everyone feel about t...   Neutral\n",
              "1  rt scottwalker didnt catch the full gopdebate ...  Positive\n",
              "2  rt tjmshow no mention of tamir rice and the go...   Neutral\n",
              "3  rt robgeorge that carly fiorina is trending  h...  Positive\n",
              "4  rt danscavino gopdebate w realdonaldtrump deli...  Positive"
            ]
          },
          "metadata": {
            "tags": []
          },
          "execution_count": 4
        }
      ]
    },
    {
      "cell_type": "code",
      "metadata": {
        "colab": {
          "base_uri": "https://localhost:8080/",
          "height": 195
        },
        "id": "33A1xSq8Nf52",
        "outputId": "ea301d4a-6a83-4c95-d294-d7f8047e9e8b"
      },
      "source": [
        "# Furthter processing of Data\n",
        "for idx, row in data.iterrows():\n",
        "    row[0] = row[0].replace('rt', ' ')\n",
        "data.head()"
      ],
      "execution_count": 5,
      "outputs": [
        {
          "output_type": "execute_result",
          "data": {
            "text/html": [
              "<div>\n",
              "<style scoped>\n",
              "    .dataframe tbody tr th:only-of-type {\n",
              "        vertical-align: middle;\n",
              "    }\n",
              "\n",
              "    .dataframe tbody tr th {\n",
              "        vertical-align: top;\n",
              "    }\n",
              "\n",
              "    .dataframe thead th {\n",
              "        text-align: right;\n",
              "    }\n",
              "</style>\n",
              "<table border=\"1\" class=\"dataframe\">\n",
              "  <thead>\n",
              "    <tr style=\"text-align: right;\">\n",
              "      <th></th>\n",
              "      <th>text</th>\n",
              "      <th>sentiment</th>\n",
              "    </tr>\n",
              "  </thead>\n",
              "  <tbody>\n",
              "    <tr>\n",
              "      <th>0</th>\n",
              "      <td>nancyleegrahn how did everyone feel about th...</td>\n",
              "      <td>Neutral</td>\n",
              "    </tr>\n",
              "    <tr>\n",
              "      <th>1</th>\n",
              "      <td>scottwalker didnt catch the full gopdebate l...</td>\n",
              "      <td>Positive</td>\n",
              "    </tr>\n",
              "    <tr>\n",
              "      <th>2</th>\n",
              "      <td>tjmshow no mention of tamir rice and the gop...</td>\n",
              "      <td>Neutral</td>\n",
              "    </tr>\n",
              "    <tr>\n",
              "      <th>3</th>\n",
              "      <td>robgeorge that carly fiorina is trending  ho...</td>\n",
              "      <td>Positive</td>\n",
              "    </tr>\n",
              "    <tr>\n",
              "      <th>4</th>\n",
              "      <td>danscavino gopdebate w realdonaldtrump deliv...</td>\n",
              "      <td>Positive</td>\n",
              "    </tr>\n",
              "  </tbody>\n",
              "</table>\n",
              "</div>"
            ],
            "text/plain": [
              "                                                text sentiment\n",
              "0    nancyleegrahn how did everyone feel about th...   Neutral\n",
              "1    scottwalker didnt catch the full gopdebate l...  Positive\n",
              "2    tjmshow no mention of tamir rice and the gop...   Neutral\n",
              "3    robgeorge that carly fiorina is trending  ho...  Positive\n",
              "4    danscavino gopdebate w realdonaldtrump deliv...  Positive"
            ]
          },
          "metadata": {
            "tags": []
          },
          "execution_count": 5
        }
      ]
    },
    {
      "cell_type": "code",
      "metadata": {
        "colab": {
          "base_uri": "https://localhost:8080/"
        },
        "id": "ATT9bns5NjQY",
        "outputId": "56ffff43-6f0c-4da3-9c2c-15acc537f59d"
      },
      "source": [
        "# Tokenization of Data, Converting to sequences\n",
        "max_features = 2000\n",
        "tokenizer = Tokenizer(num_words=max_features, split=' ')\n",
        "tokenizer.fit_on_texts(data['text'].values)\n",
        "X = tokenizer.texts_to_sequences(data['text'].values)\n",
        "X = pad_sequences(X)\n",
        "X"
      ],
      "execution_count": 6,
      "outputs": [
        {
          "output_type": "execute_result",
          "data": {
            "text/plain": [
              "array([[   0,    0,    0, ...,   51, 1039,    1],\n",
              "       [   0,    0,    0, ..., 1577, 1356,  847],\n",
              "       [   0,    0,    0, ...,   10,  696,  518],\n",
              "       ...,\n",
              "       [   0,    0,    0, ...,   68,   62,    3],\n",
              "       [   0,    0,    0, ..., 1112, 1588,   81],\n",
              "       [   0,    0,    0, ...,  196,    3,  880]], dtype=int32)"
            ]
          },
          "metadata": {
            "tags": []
          },
          "execution_count": 6
        }
      ]
    },
    {
      "cell_type": "code",
      "metadata": {
        "id": "Q1bwjmiLNmdJ"
      },
      "source": [
        "\n",
        "# Model Configuration\n",
        "embed_dim = 128\n",
        "lstm_out = 196"
      ],
      "execution_count": 7,
      "outputs": []
    },
    {
      "cell_type": "code",
      "metadata": {
        "id": "hpeMu8-1Nph6"
      },
      "source": [
        "# Method to create the model\n",
        "def createmodel():\n",
        "    model = Sequential()\n",
        "    model.add(Embedding(max_features, embed_dim,input_length = X.shape[1]))\n",
        "    model.add(LSTM(lstm_out, dropout=0.2, recurrent_dropout=0.2))\n",
        "    model.add(Dense(3,activation='softmax'))\n",
        "    model.compile(loss = 'categorical_crossentropy', optimizer='adam',metrics = ['accuracy'])\n",
        "    return model"
      ],
      "execution_count": 8,
      "outputs": []
    },
    {
      "cell_type": "code",
      "metadata": {
        "id": "5xxdD5fjNtM_"
      },
      "source": [
        "\n",
        "# Applying Label Encoding on Target column\n",
        "labelencoder = LabelEncoder()\n",
        "integer_encoded = labelencoder.fit_transform(data['sentiment'])\n",
        "y = to_categorical(integer_encoded)\n",
        "X_train, X_test, Y_train, Y_test = train_test_split(X,y, test_size = 0.33, random_state = 42)"
      ],
      "execution_count": 9,
      "outputs": []
    },
    {
      "cell_type": "code",
      "metadata": {
        "colab": {
          "base_uri": "https://localhost:8080/"
        },
        "id": "zTUFyqHkNwfU",
        "outputId": "c31a629c-2ec3-487b-97df-40cd172ea213"
      },
      "source": [
        "# Model creation & Evaluation\n",
        "batch_size = 32\n",
        "model = createmodel()\n",
        "model.fit(X_train, Y_train, epochs = 1, batch_size=batch_size, verbose = 2)\n",
        "score,acc = model.evaluate(X_test,Y_test,verbose=2,batch_size=batch_size)"
      ],
      "execution_count": 10,
      "outputs": [
        {
          "output_type": "stream",
          "text": [
            "291/291 - 34s - loss: 0.8267 - accuracy: 0.6409\n",
            "144/144 - 2s - loss: 0.7700 - accuracy: 0.6577\n"
          ],
          "name": "stdout"
        }
      ]
    },
    {
      "cell_type": "code",
      "metadata": {
        "colab": {
          "base_uri": "https://localhost:8080/"
        },
        "id": "SkAiCuHYN0jg",
        "outputId": "2d3ba2c4-7bc3-41bb-88d2-b0811a361444"
      },
      "source": [
        "# Score and Accutracy\n",
        "print(score)\n",
        "print(acc)\n",
        "print(model.metrics_names)"
      ],
      "execution_count": 11,
      "outputs": [
        {
          "output_type": "stream",
          "text": [
            "0.7700440883636475\n",
            "0.6577107906341553\n",
            "['loss', 'accuracy']\n"
          ],
          "name": "stdout"
        }
      ]
    },
    {
      "cell_type": "code",
      "metadata": {
        "id": "gfVMNM1WN5Ks"
      },
      "source": [
        "# Saving the model\n",
        "from keras.models import load_model \n",
        "model.save(\"sentiment_analysis.h5\")"
      ],
      "execution_count": 12,
      "outputs": []
    },
    {
      "cell_type": "code",
      "metadata": {
        "colab": {
          "base_uri": "https://localhost:8080/"
        },
        "id": "zTWNZ7BXN6wQ",
        "outputId": "4b921030-a0f1-4889-8602-e325eeea3a7f"
      },
      "source": [
        "# Loading the saved model and evaluating\n",
        "loaded_model = load_model(\"sentiment_analysis.h5\") \n",
        "loss, accuracy = loaded_model.evaluate(X_test, Y_test)\n",
        "print(\"The Loss is \",loss)\n",
        "print(\"The Accuracy is \",accuracy)"
      ],
      "execution_count": 13,
      "outputs": [
        {
          "output_type": "stream",
          "text": [
            "144/144 [==============================] - 2s 15ms/step - loss: 0.7700 - accuracy: 0.6577\n",
            "The Loss is  0.7700440883636475\n",
            "The Accuracy is  0.6577107906341553\n"
          ],
          "name": "stdout"
        }
      ]
    },
    {
      "cell_type": "markdown",
      "metadata": {
        "id": "j_qPgU9JOHps"
      },
      "source": [
        "# **Prediction**"
      ]
    },
    {
      "cell_type": "code",
      "metadata": {
        "id": "KifMRhE-OTtU"
      },
      "source": [
        "# Processing the input text \n",
        "input_text = \"A lot of good things are happening. We are respected again throughout the world, and that's a great thing.@realDonaldTrump\"\n",
        "tokenizer.fit_on_texts(input_text)\n",
        "\n",
        "#vectorizing the tweet by the pre-fitted tokenizer instance\n",
        "tweet = tokenizer.texts_to_sequences(input_text)\n",
        "\n",
        "tweet = pad_sequences(tweet, maxlen=28, dtype='int32', value=0)"
      ],
      "execution_count": 14,
      "outputs": []
    },
    {
      "cell_type": "code",
      "metadata": {
        "colab": {
          "base_uri": "https://localhost:8080/"
        },
        "id": "a_E_QCVCOXGZ",
        "outputId": "d1049968-f596-4abe-9969-045f6fed1846"
      },
      "source": [
        "# Sentiment Prediction\n",
        "result = loaded_model.predict(tweet,batch_size=1,verbose = 2)[0]\n",
        "print(result)\n",
        "if(np.argmax(result) == 0):\n",
        "    print(\"negative\")\n",
        "elif (np.argmax(result) == 1):\n",
        "    print(\"positive\")\n",
        "else:\n",
        "    print(\"neutral\")"
      ],
      "execution_count": 15,
      "outputs": [
        {
          "output_type": "stream",
          "text": [
            "122/122 - 1s\n",
            "[0.21850802 0.68336886 0.0981231 ]\n",
            "positive\n"
          ],
          "name": "stdout"
        }
      ]
    },
    {
      "cell_type": "markdown",
      "metadata": {
        "id": "ZmZgUxCqObIy"
      },
      "source": [
        "# **GridSerachCV**"
      ]
    },
    {
      "cell_type": "code",
      "metadata": {
        "colab": {
          "base_uri": "https://localhost:8080/"
        },
        "id": "_DaPlopOOhBX",
        "outputId": "8cda7cd9-abd8-4368-ba7a-6b1aaa47d52a"
      },
      "source": [
        "# Applying GridSearchCV on model\n",
        "from keras.wrappers.scikit_learn import KerasClassifier\n",
        "from sklearn.model_selection import GridSearchCV\n",
        "model1 = KerasClassifier(build_fn=createmodel, verbose=0)\n",
        "batch_size = [32, 64]\n",
        "epochs = [1, 2]\n",
        "param_grid = dict(batch_size=batch_size, epochs=epochs)\n",
        "\n",
        "grid = GridSearchCV(estimator=model1, param_grid=param_grid, n_jobs=1)\n",
        "grid_result = grid.fit(X_train, Y_train)\n",
        "# summarize results\n",
        "print(\"Best Score : %f using the parameters %s\" % (grid_result.best_score_, grid_result.best_params_))"
      ],
      "execution_count": 16,
      "outputs": [
        {
          "output_type": "stream",
          "text": [
            "Best Score : 0.679006 using the parameters {'batch_size': 64, 'epochs': 2}\n"
          ],
          "name": "stdout"
        }
      ]
    }
  ]
}